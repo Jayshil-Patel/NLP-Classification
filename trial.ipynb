{
 "cells": [
  {
   "cell_type": "code",
   "execution_count": 1,
   "metadata": {},
   "outputs": [
    {
     "name": "stderr",
     "output_type": "stream",
     "text": [
      "d:\\softwares\\Python\\lib\\site-packages\\scipy\\__init__.py:146: UserWarning: A NumPy version >=1.16.5 and <1.23.0 is required for this version of SciPy (detected version 1.24.2\n",
      "  warnings.warn(f\"A NumPy version >={np_minversion} and <{np_maxversion}\"\n"
     ]
    }
   ],
   "source": [
    "import pandas as pd\n",
    "import numpy as np\n",
    "import matplotlib.pyplot as plt\n",
    "from sklearn.metrics import accuracy_score"
   ]
  },
  {
   "cell_type": "code",
   "execution_count": 2,
   "metadata": {},
   "outputs": [],
   "source": [
    "import random\n",
    "import requests\n",
    "\n",
    "def sample_books(book_urls, Author_name,book_name):\n",
    "    # Create a list to store the DataFrames\n",
    "    dataframes = []\n",
    "    # Iterate over the book URLs and labels\n",
    "    for url, label, title in zip(book_urls, Author_name,book_name):\n",
    "        # Download book from Gutenberg\n",
    "        book = requests.get(url)\n",
    "        book = book.text\n",
    "        # Split book into a list of words\n",
    "        words = book.split()\n",
    "        # Create a list to store the partitions\n",
    "        partitions = []\n",
    "        # Use a for loop to sample 200 partitions of 100 words each\n",
    "        for i in range(200):\n",
    "            start_index = random.randint(0, len(words) - 100)\n",
    "            partition = words[start_index : start_index + 100]\n",
    "            partitions.append(\" \".join(partition))\n",
    "        # Create a Pandas DataFrame to store the partitions\n",
    "        data = {'text': partitions,'author': [label]*200,'book':title}\n",
    "        df = pd.DataFrame(data)\n",
    "        # Append the DataFrame to the list\n",
    "        dataframes.append(df)\n",
    "    # Concatenate the DataFrames into a single DataFrame\n",
    "    final_df = pd.concat(dataframes)\n",
    "    #return dataframe\n",
    "    return final_df\n"
   ]
  },
  {
   "cell_type": "code",
   "execution_count": 3,
   "metadata": {},
   "outputs": [],
   "source": [
    "#Example usage\n",
    "book_urls = ['http://www.gutenberg.org/files/1342/1342-0.txt', 'http://www.gutenberg.org/files/84/84-0.txt','https://www.gutenberg.org/files/2701/2701-0.txt','https://www.gutenberg.org/files/1228/1228-0.txt','https://www.gutenberg.org/files/2600/2600-0.txt']\n",
    "Author_name = ['Jane Austen', 'Mary Wollstonecraft Shelley','Herman Melville', 'Charles Darwin','Leo Tolstoy']\n",
    "book_name = ['Pride and prejudice', 'Frankenstein','Moby-Dick','The Origin of Species','War and Peace']\n",
    "df = sample_books(book_urls, Author_name,book_name)"
   ]
  },
  {
   "cell_type": "code",
   "execution_count": 4,
   "metadata": {},
   "outputs": [],
   "source": [
    "df.to_csv('text_data.csv',index=False)"
   ]
  },
  {
   "cell_type": "code",
   "execution_count": 5,
   "metadata": {},
   "outputs": [],
   "source": [
    "# Load the data into a pandas dataframe\n",
    "df = pd.read_csv(\"text_data.csv\")"
   ]
  },
  {
   "cell_type": "code",
   "execution_count": 6,
   "metadata": {},
   "outputs": [
    {
     "name": "stderr",
     "output_type": "stream",
     "text": [
      "<ipython-input-6-310b42ec99db>:3: FutureWarning: The default value of regex will change from True to False in a future version.\n",
      "  df['text'] = df['text'].str.replace('[^\\w\\s]','') # Remove punctuation\n"
     ]
    }
   ],
   "source": [
    "# Preprocess the data\n",
    "df['text'] = df['text'].str.lower() # Convert to lowercase\n",
    "df['text'] = df['text'].str.replace('[^\\w\\s]','') # Remove punctuation"
   ]
  },
  {
   "cell_type": "code",
   "execution_count": 7,
   "metadata": {},
   "outputs": [],
   "source": [
    "# Split the data into training, validation, and testing sets\n",
    "from sklearn.model_selection import train_test_split\n",
    "train_df, test_df = train_test_split(df, test_size=0.2, random_state=42)\n",
    "val_df, test_df = train_test_split(test_df, test_size=0.5, random_state=42)"
   ]
  },
  {
   "cell_type": "code",
   "execution_count": 8,
   "metadata": {},
   "outputs": [],
   "source": [
    "# Transform the data into bag-of-words representation\n",
    "from sklearn.feature_extraction.text import CountVectorizer, TfidfVectorizer\n",
    "vectorizer = CountVectorizer()\n",
    "train_matrix = vectorizer.fit_transform(train_df['text'])\n",
    "val_matrix = vectorizer.transform(val_df['text'])\n",
    "test_matrix = vectorizer.transform(test_df['text'])"
   ]
  },
  {
   "attachments": {},
   "cell_type": "markdown",
   "metadata": {},
   "source": [
    "## BaseLine Classifiers"
   ]
  },
  {
   "cell_type": "code",
   "execution_count": 9,
   "metadata": {},
   "outputs": [
    {
     "name": "stdout",
     "output_type": "stream",
     "text": [
      "Validation Accuracy: 0.8\n",
      "Testing Accuracy: 0.83\n",
      "Validation Accuracy: 0.67\n",
      "Testing Accuracy: 0.72\n",
      "Validation Accuracy: 0.86\n",
      "Testing Accuracy: 0.9\n",
      "Validation Accuracy: 0.57\n",
      "Testing Accuracy: 0.66\n",
      "Validation Accuracy: 0.93\n",
      "Testing Accuracy: 0.93\n"
     ]
    },
    {
     "name": "stderr",
     "output_type": "stream",
     "text": [
      "d:\\softwares\\Python\\lib\\site-packages\\sklearn\\linear_model\\_logistic.py:444: ConvergenceWarning: lbfgs failed to converge (status=1):\n",
      "STOP: TOTAL NO. of ITERATIONS REACHED LIMIT.\n",
      "\n",
      "Increase the number of iterations (max_iter) or scale the data as shown in:\n",
      "    https://scikit-learn.org/stable/modules/preprocessing.html\n",
      "Please also refer to the documentation for alternative solver options:\n",
      "    https://scikit-learn.org/stable/modules/linear_model.html#logistic-regression\n",
      "  n_iter_i = _check_optimize_result(\n"
     ]
    }
   ],
   "source": [
    "# Train a DST classifier\n",
    "from sklearn.tree import DecisionTreeClassifier\n",
    "from sklearn.svm import SVC\n",
    "from sklearn.linear_model import LinearRegression,LogisticRegression\n",
    "from sklearn.neighbors import KNeighborsClassifier\n",
    "from sklearn.naive_bayes import MultinomialNB\n",
    "\n",
    "model_list = [SVC(),DecisionTreeClassifier(),LogisticRegression(),KNeighborsClassifier(),MultinomialNB()]\n",
    "\n",
    "Val_accuracies={}\n",
    "Test_accuracies={}\n",
    "\n",
    "for Model in model_list:\n",
    "    Model.fit(train_matrix, train_df['author'])\n",
    "\n",
    "    # Evaluate the DST using 10-fold cross-validation\n",
    "    val_predictions = Model.predict(val_matrix)\n",
    "    val_accuracy = accuracy_score(val_df['author'], val_predictions)\n",
    "    # print(\"Validation Accuracy:\", val_accuracy)\n",
    "\n",
    "    # Evaluate the model on the testing set for DST\n",
    "    test_predictions = Model.predict(test_matrix)\n",
    "    test_accuracy = accuracy_score(test_df['author'], test_predictions)\n",
    "    # print(\"Testing Accuracy:\", test_accuracy)\n",
    "\n",
    "    Val_accuracies[Model]=val_accuracy    \n",
    "    Test_accuracies[Model]=test_accuracy    "
   ]
  },
  {
   "cell_type": "code",
   "execution_count": 22,
   "metadata": {},
   "outputs": [
    {
     "data": {
      "image/png": "[encoded data removed]",
      "text/plain": [
       "<Figure size 432x288 with 1 Axes>"
      ]
     },
     "metadata": {
      "needs_background": "light"
     },
     "output_type": "display_data"
    }
   ],
   "source": [
    "# Convert the model names to strings\n",
    "model_names = [str(model) for model in Val_accuracies.keys()]\n",
    "accuracies = Val_accuracies.values()\n",
    "\n",
    "# Plot the bar graph\n",
    "plt.barh(model_names, accuracies)\n",
    "plt.xlabel('Model Name')\n",
    "plt.ylabel('Accuracy')\n",
    "plt.title('Models and their Accuracies')\n",
    "\n",
    "# Show the plot\n",
    "plt.show()"
   ]
  }
 ],
 "metadata": {
  "kernelspec": {
   "display_name": "Python 3",
   "language": "python",
   "name": "python3"
  },
  "language_info": {
   "codemirror_mode": {
    "name": "ipython",
    "version": 3
   },
   "file_extension": ".py",
   "mimetype": "text/x-python",
   "name": "python",
   "nbconvert_exporter": "python",
   "pygments_lexer": "ipython3",
   "version": "3.9.5"
  },
  "orig_nbformat": 4,
  "vscode": {
   "interpreter": {
    "hash": "87d9b9d1e678527538d8142a74b02950316a4861c664997bcf14b93b840e5ec0"
   }
  }
 },
 "nbformat": 4,
 "nbformat_minor": 2
}
